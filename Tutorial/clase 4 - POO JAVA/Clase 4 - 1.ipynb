{
 "cells": [
  {
   "cell_type": "code",
   "execution_count": 1,
   "metadata": {},
   "outputs": [
    {
     "name": "stdout",
     "output_type": "stream",
     "text": [
      "11\n",
      "11\n",
      "12\n"
     ]
    }
   ],
   "source": [
    "int a = 10;\n",
    "\n",
    "System.out.println(++a); //Primero incrementa y luego pasa como parámetro\n",
    "System.out.println(a++); //Primero se pasa como parámetro y luego se incrementa la variable\n",
    "\n",
    "System.out.println(a);"
   ]
  },
  {
   "cell_type": "code",
   "execution_count": 2,
   "metadata": {},
   "outputs": [
    {
     "name": "stdout",
     "output_type": "stream",
     "text": [
      "9\n",
      "9\n",
      "8\n"
     ]
    }
   ],
   "source": [
    "int a = 10;\n",
    "\n",
    "System.out.println(--a); //Primero decrementa y luego pasa como parámetro\n",
    "System.out.println(a--); //Primero se pasa como parámetro y luego se decrementa la variable\n",
    "\n",
    "System.out.println(a);"
   ]
  },
  {
   "cell_type": "code",
   "execution_count": 3,
   "metadata": {},
   "outputs": [
    {
     "name": "stdout",
     "output_type": "stream",
     "text": [
      "Es falso\n"
     ]
    }
   ],
   "source": [
    "if ( (8 % 2) == 1 ){\n",
    "\n",
    "    System.out.println(\"Es verdadero\");\n",
    "\n",
    "}else{\n",
    "\n",
    "    System.out.println(\"Es falso\");\n",
    "\n",
    "}"
   ]
  },
  {
   "cell_type": "code",
   "execution_count": 4,
   "metadata": {},
   "outputs": [
    {
     "name": "stdout",
     "output_type": "stream",
     "text": [
      "Es par\n"
     ]
    }
   ],
   "source": [
    "boolean res = (8 % 2) == 1;\n",
    "\n",
    "if (res){\n",
    "\n",
    "    System.out.println(\"Es impar\");\n",
    "\n",
    "}else{\n",
    "\n",
    "    System.out.println(\"Es par\");\n",
    "\n",
    "}"
   ]
  },
  {
   "cell_type": "code",
   "execution_count": 5,
   "metadata": {},
   "outputs": [
    {
     "name": "stdout",
     "output_type": "stream",
     "text": [
      "b es 3\n"
     ]
    }
   ],
   "source": [
    "int b = 3;\n",
    "\n",
    "if (b == 1){\n",
    "\n",
    "    System.out.println(\"b es 1\");\n",
    "\n",
    "} else if (b == 3){\n",
    "\n",
    "    System.out.println(\"b es 3\");\n",
    "\n",
    "} else if (b == 7){\n",
    "\n",
    "    System.out.println(\"b es 7\");\n",
    "\n",
    "} else {\n",
    "\n",
    "    System.out.println(\"b no es ninguna de las anteriores\");\n",
    "\n",
    "}"
   ]
  },
  {
   "cell_type": "code",
   "execution_count": 6,
   "metadata": {},
   "outputs": [
    {
     "name": "stdout",
     "output_type": "stream",
     "text": [
      "c es impar\n"
     ]
    }
   ],
   "source": [
    "int c = 8;\n",
    "\n",
    "System.out.println(c == 9 ? \"c es par\" : \"c es impar\");"
   ]
  },
  {
   "cell_type": "code",
   "execution_count": 7,
   "metadata": {},
   "outputs": [
    {
     "name": "stdout",
     "output_type": "stream",
     "text": [
      "El valor de d es: 0\n",
      "El valor de d es: 1\n",
      "El valor de d es: 2\n",
      "El valor de d es: 3\n",
      "El valor de d es: 4\n"
     ]
    }
   ],
   "source": [
    "int d = 0;\n",
    "\n",
    "boolean brk = false;\n",
    "\n",
    "while (d < 10 && !brk){\n",
    "\n",
    "    System.out.println(\"El valor de d es: \" + d);\n",
    "    d++;\n",
    "    if (d == 5){\n",
    "        brk = true;\n",
    "    }\n",
    "}"
   ]
  },
  {
   "cell_type": "code",
   "execution_count": 8,
   "metadata": {},
   "outputs": [
    {
     "name": "stdout",
     "output_type": "stream",
     "text": [
      "e es verdadero\n"
     ]
    }
   ],
   "source": [
    "boolean e = true;\n",
    "\n",
    "do {\n",
    "\n",
    "    System.out.println(\"e es verdadero\");\n",
    "\n",
    "    e = false;\n",
    "\n",
    "} while(e);"
   ]
  },
  {
   "cell_type": "code",
   "execution_count": 9,
   "metadata": {},
   "outputs": [
    {
     "name": "stdout",
     "output_type": "stream",
     "text": [
      "El valor de d es: 0\n",
      "El valor de d es: 1\n",
      "El valor de d es: 2\n",
      "El valor de d es: 3\n",
      "El valor de d es: 4\n",
      "El valor de d es: 5\n",
      "El valor de d es: 6\n",
      "El valor de d es: 7\n",
      "El valor de d es: 8\n",
      "El valor de d es: 9\n"
     ]
    }
   ],
   "source": [
    "for (int f = 0; f < 10; f++){\n",
    "\n",
    "    System.out.println(\"El valor de d es: \" + f);\n",
    "\n",
    "}"
   ]
  },
  {
   "cell_type": "code",
   "execution_count": 10,
   "metadata": {},
   "outputs": [
    {
     "name": "stdout",
     "output_type": "stream",
     "text": [
      "El valor de d es: 10\n",
      "El valor de d es: 9\n",
      "El valor de d es: 8\n",
      "El valor de d es: 7\n",
      "El valor de d es: 6\n",
      "El valor de d es: 5\n",
      "El valor de d es: 4\n",
      "El valor de d es: 3\n",
      "El valor de d es: 2\n",
      "El valor de d es: 1\n",
      "El valor de d es: 0\n"
     ]
    }
   ],
   "source": [
    "for (int f = 10; f > -1; f--){\n",
    "\n",
    "    System.out.println(\"El valor de d es: \" + f);\n",
    "\n",
    "}"
   ]
  },
  {
   "cell_type": "code",
   "execution_count": 11,
   "metadata": {},
   "outputs": [
    {
     "name": "stdout",
     "output_type": "stream",
     "text": [
      "El valor de j es 18\n",
      "y finalizo la rutina\n",
      "rutina fuera del case\n"
     ]
    }
   ],
   "source": [
    "int j = 18;\n",
    "\n",
    "switch (j){\n",
    "    case 10:\n",
    "        System.out.println(\"El valor de j es 10\");\n",
    "        System.out.println(\"y finalizo la rutina\");\n",
    "    break;\n",
    "\n",
    "    case 18:\n",
    "        System.out.println(\"El valor de j es 18\");\n",
    "        System.out.println(\"y finalizo la rutina\");\n",
    "    break;\n",
    "\n",
    "    case 20:\n",
    "        System.out.println(\"El valor de j es 20\");\n",
    "        System.out.println(\"y finalizo la rutina\");\n",
    "    break;\n",
    "\n",
    "    default:\n",
    "        System.out.println(\"Se ejecuta rutina por defecto\");\n",
    "        System.out.println(\"no hay más opciones\");\n",
    "    break;\n",
    "}\n",
    "\n",
    "System.out.println(\"rutina fuera del case\");"
   ]
  },
  {
   "cell_type": "code",
   "execution_count": 12,
   "metadata": {},
   "outputs": [
    {
     "name": "stdout",
     "output_type": "stream",
     "text": [
      "13\n",
      "11\n",
      "10\n",
      "u\n",
      "cadena\n"
     ]
    }
   ],
   "source": [
    "String miString1 = new String(\"Mi cadena uno\");\n",
    "String miString2 = \"Mi cadena 2\";\n",
    "\n",
    "System.out.println(miString1.length());\n",
    "System.out.println(miString2.length());\n",
    "System.out.println(miString1.indexOf(\"uno\"));\n",
    "System.out.println(miString1.charAt(10));\n",
    "\n",
    "System.out.println(miString2.substring(miString2.indexOf(\"cadena\"), miString2.indexOf(\"cadena\") + \"cadena\".length()));"
   ]
  },
  {
   "cell_type": "code",
   "execution_count": 13,
   "metadata": {},
   "outputs": [
    {
     "name": "stdout",
     "output_type": "stream",
     "text": [
      "13\n",
      "11\n",
      "10\n",
      "u\n",
      "cadena\n",
      "67\n",
      "-67\n",
      "0\n"
     ]
    }
   ],
   "source": [
    "String miString1 = new String(\"Mi cadena uno\");\n",
    "\t\tString miString2 = \"Mi cadena 2\";\n",
    "\t\t\n",
    "\t\tSystem.out.println(miString1.length());\n",
    "\t\tSystem.out.println(miString2.length());\n",
    "\t\tSystem.out.println(miString1.indexOf(\"uno\"));\n",
    "\t\tSystem.out.println(miString1.charAt(10));\n",
    "\t\t\n",
    "\t\tSystem.out.println(miString2.substring(miString2.indexOf(\"cadena\"), miString2.indexOf(\"cadena\") + \"cadena\".length()));\n",
    "\t\t\n",
    "\t\tSystem.out.println(miString1.compareTo(miString2)); // miString1 > miString 2\n",
    "\t\tSystem.out.println(miString2.compareTo(miString1)); // miString2 < miString 1\n",
    "\t\t\n",
    "\t\tString miString3 = miString1;\n",
    "\t\tSystem.out.println(miString3.compareTo(miString1));"
   ]
  },
  {
   "cell_type": "code",
   "execution_count": 14,
   "metadata": {},
   "outputs": [
    {
     "name": "stdout",
     "output_type": "stream",
     "text": [
      "0\n",
      "1\n",
      "2\n",
      "3\n",
      "4\n",
      "5\n",
      "6\n",
      "7\n",
      "8\n",
      "9\n",
      "9\n"
     ]
    }
   ],
   "source": [
    "int miArr[] = new int[10];\n",
    "\t\t\n",
    "\t\tfor(int a = 0; a < miArr.length; a++){\n",
    "\t\t\tmiArr[a] = a;\n",
    "\t\t\tSystem.out.println(miArr[a]);\n",
    "\t\t}\n",
    "\t\t\n",
    "\t\tSystem.out.println(miArr[miArr.length - 1]);"
   ]
  },
  {
   "cell_type": "code",
   "execution_count": 15,
   "metadata": {},
   "outputs": [
    {
     "name": "stdout",
     "output_type": "stream",
     "text": [
      "dato 0\n",
      "mi dato 1\n",
      "otro dato 2\n",
      "ese dato 3\n",
      "EL dato 4\n",
      "5\n"
     ]
    }
   ],
   "source": [
    "String[] arrCadenas = {\"dato 0\", \"mi dato 1\", \"otro dato 2\", \"ese dato 3\", \"EL dato 4\", \"5\"};\n",
    "\t\t\n",
    "\t\tfor(int a = 0; a < arrCadenas.length; a++){\n",
    "\t\t\tSystem.out.println(arrCadenas[a]);\n",
    "\t\t}"
   ]
  },
  {
   "cell_type": "code",
   "execution_count": 26,
   "metadata": {},
   "outputs": [
    {
     "name": "stdout",
     "output_type": "stream",
     "text": [
      "Se pasaron 3 argumentos\n",
      "2\n",
      "7\n",
      "15\n"
     ]
    }
   ],
   "source": [
    "public void main(String[] args){\n",
    "    if (args.length > 0){\n",
    "\t\tSystem.out.println(\"Se pasaron \" + args.length + \" argumentos\");\n",
    "\t\tfor(int a = 0; a < args.length; a++){\n",
    "\t\t\tSystem.out.println(args[a]);\n",
    "\t\t\tInteger.parseInt(args[a]);\n",
    "\t\t}\n",
    "\t}else{\n",
    "\t\tSystem.out.println(\"No se pasaron argumentos\");\n",
    "\t}\n",
    "}\n",
    "\n",
    "String[] arrParams = {\"2\", \"7\", \"15\"};\n",
    "main(arrParams);"
   ]
  }
 ],
 "metadata": {
  "kernelspec": {
   "display_name": "Java",
   "language": "java",
   "name": "java"
  },
  "language_info": {
   "codemirror_mode": "java",
   "file_extension": ".java",
   "mimetype": "text/x-java-source",
   "name": "Java",
   "pygments_lexer": "java",
   "version": "10.0.1+10-Debian-4"
  }
 },
 "nbformat": 4,
 "nbformat_minor": 2
}
